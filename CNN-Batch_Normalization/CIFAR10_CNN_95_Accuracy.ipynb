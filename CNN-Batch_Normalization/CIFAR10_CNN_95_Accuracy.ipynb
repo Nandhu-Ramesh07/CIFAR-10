{
  "cells": [
    {
      "cell_type": "code",
      "execution_count": 17,
      "metadata": {
        "id": "rhUn8YzPsZMQ"
      },
      "outputs": [],
      "source": [
        "import tensorflow as tf\n",
        "from tensorflow.keras import layers, models\n",
        "from tensorflow.keras.datasets import cifar10\n",
        "from tensorflow.keras.utils import to_categorical\n",
        "from tensorflow.keras.callbacks import EarlyStopping\n",
        "from tensorflow.keras import regularizers\n",
        "from tensorflow.keras.layers import BatchNormalization\n",
        "import matplotlib.pyplot as plt"
      ]
    },
    {
      "cell_type": "code",
      "execution_count": 2,
      "metadata": {
        "colab": {
          "base_uri": "https://localhost:8080/"
        },
        "id": "qZ0yBwz9syZA",
        "outputId": "5681c12b-353d-4c4a-b0d6-f96e6f20e179"
      },
      "outputs": [
        {
          "output_type": "stream",
          "name": "stdout",
          "text": [
            "Downloading data from https://www.cs.toronto.edu/~kriz/cifar-10-python.tar.gz\n",
            "170498071/170498071 [==============================] - 13s 0us/step\n"
          ]
        }
      ],
      "source": [
        "#loading the dataset from tensorflow\n",
        "\n",
        "(x_train,y_train) , (x_test,y_test) = cifar10.load_data()"
      ]
    },
    {
      "cell_type": "code",
      "execution_count": 3,
      "metadata": {
        "colab": {
          "base_uri": "https://localhost:8080/"
        },
        "id": "OPtu9uPPSGmt",
        "outputId": "e9e39f08-2c28-498e-fc33-5ae780ae0024"
      },
      "outputs": [
        {
          "output_type": "stream",
          "name": "stdout",
          "text": [
            "Shape of x_train :  (50000, 32, 32, 3)\n",
            "Shape of y_train :  (50000, 1) \n",
            "\n",
            "Shape of x_test :  (10000, 32, 32, 3)\n",
            "Shape of y_test :  (10000, 1)\n"
          ]
        }
      ],
      "source": [
        "print(\"Shape of x_train : \",x_train.shape)\n",
        "print(\"Shape of y_train : \",y_train.shape,'\\n')\n",
        "print(\"Shape of x_test : \",x_test.shape)\n",
        "print(\"Shape of y_test : \",y_test.shape)"
      ]
    },
    {
      "cell_type": "markdown",
      "metadata": {
        "id": "LMZIltUHSleF"
      },
      "source": [
        "**60,000 images with 50,000 for training and 10,000 for testing**"
      ]
    },
    {
      "cell_type": "code",
      "execution_count": 4,
      "metadata": {
        "colab": {
          "base_uri": "https://localhost:8080/",
          "height": 72
        },
        "id": "M4DGH3aBSbKN",
        "outputId": "e3871884-0bdc-45cb-cff6-d109599a605c"
      },
      "outputs": [
        {
          "output_type": "execute_result",
          "data": {
            "text/plain": [
              "array([[[154, 177, 187],\n",
              "        [126, 137, 136],\n",
              "        [105, 104,  95],\n",
              "        ...,\n",
              "        [ 91,  95,  71],\n",
              "        [ 87,  90,  71],\n",
              "        [ 79,  81,  70]],\n",
              "\n",
              "       [[140, 160, 169],\n",
              "        [145, 153, 154],\n",
              "        [125, 125, 118],\n",
              "        ...,\n",
              "        [ 96,  99,  78],\n",
              "        [ 77,  80,  62],\n",
              "        [ 71,  73,  61]],\n",
              "\n",
              "       [[140, 155, 164],\n",
              "        [139, 146, 149],\n",
              "        [115, 115, 112],\n",
              "        ...,\n",
              "        [ 79,  82,  64],\n",
              "        [ 68,  70,  55],\n",
              "        [ 67,  69,  55]],\n",
              "\n",
              "       ...,\n",
              "\n",
              "       [[175, 167, 166],\n",
              "        [156, 154, 160],\n",
              "        [154, 160, 170],\n",
              "        ...,\n",
              "        [ 42,  34,  36],\n",
              "        [ 61,  53,  57],\n",
              "        [ 93,  83,  91]],\n",
              "\n",
              "       [[165, 154, 128],\n",
              "        [156, 152, 130],\n",
              "        [159, 161, 142],\n",
              "        ...,\n",
              "        [103,  93,  96],\n",
              "        [123, 114, 120],\n",
              "        [131, 121, 131]],\n",
              "\n",
              "       [[163, 148, 120],\n",
              "        [158, 148, 122],\n",
              "        [163, 156, 133],\n",
              "        ...,\n",
              "        [143, 133, 139],\n",
              "        [143, 134, 142],\n",
              "        [143, 133, 144]]], dtype=uint8)"
            ],
            "text/html": [
              "<style>\n",
              "      .ndarray_repr .ndarray_raw_data {\n",
              "        display: none;\n",
              "      }\n",
              "      .ndarray_repr.show_array .ndarray_raw_data {\n",
              "        display: block;\n",
              "      }\n",
              "      .ndarray_repr.show_array .ndarray_image_preview {\n",
              "        display: none;\n",
              "      }\n",
              "      </style>\n",
              "      <div id=\"id-68c638e2-ca23-4ffa-965b-6d284019c898\" class=\"ndarray_repr\"><pre>ndarray (32, 32, 3) <button style=\"padding: 0 2px;\">show data</button></pre><img src=\"data:image/png;base64,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\" class=\"ndarray_image_preview\" /><pre class=\"ndarray_raw_data\">array([[[154, 177, 187],\n",
              "        [126, 137, 136],\n",
              "        [105, 104,  95],\n",
              "        ...,\n",
              "        [ 91,  95,  71],\n",
              "        [ 87,  90,  71],\n",
              "        [ 79,  81,  70]],\n",
              "\n",
              "       [[140, 160, 169],\n",
              "        [145, 153, 154],\n",
              "        [125, 125, 118],\n",
              "        ...,\n",
              "        [ 96,  99,  78],\n",
              "        [ 77,  80,  62],\n",
              "        [ 71,  73,  61]],\n",
              "\n",
              "       [[140, 155, 164],\n",
              "        [139, 146, 149],\n",
              "        [115, 115, 112],\n",
              "        ...,\n",
              "        [ 79,  82,  64],\n",
              "        [ 68,  70,  55],\n",
              "        [ 67,  69,  55]],\n",
              "\n",
              "       ...,\n",
              "\n",
              "       [[175, 167, 166],\n",
              "        [156, 154, 160],\n",
              "        [154, 160, 170],\n",
              "        ...,\n",
              "        [ 42,  34,  36],\n",
              "        [ 61,  53,  57],\n",
              "        [ 93,  83,  91]],\n",
              "\n",
              "       [[165, 154, 128],\n",
              "        [156, 152, 130],\n",
              "        [159, 161, 142],\n",
              "        ...,\n",
              "        [103,  93,  96],\n",
              "        [123, 114, 120],\n",
              "        [131, 121, 131]],\n",
              "\n",
              "       [[163, 148, 120],\n",
              "        [158, 148, 122],\n",
              "        [163, 156, 133],\n",
              "        ...,\n",
              "        [143, 133, 139],\n",
              "        [143, 134, 142],\n",
              "        [143, 133, 144]]], dtype=uint8)</pre></div><script>\n",
              "      (() => {\n",
              "      const titles = ['show data', 'hide data'];\n",
              "      let index = 0\n",
              "      document.querySelector('#id-68c638e2-ca23-4ffa-965b-6d284019c898 button').onclick = (e) => {\n",
              "        document.querySelector('#id-68c638e2-ca23-4ffa-965b-6d284019c898').classList.toggle('show_array');\n",
              "        index = (++index) % 2;\n",
              "        document.querySelector('#id-68c638e2-ca23-4ffa-965b-6d284019c898 button').textContent = titles[index];\n",
              "        e.preventDefault();\n",
              "        e.stopPropagation();\n",
              "      }\n",
              "      })();\n",
              "    </script>"
            ]
          },
          "metadata": {},
          "execution_count": 4
        }
      ],
      "source": [
        "x_train[1]"
      ]
    },
    {
      "cell_type": "code",
      "execution_count": 5,
      "metadata": {
        "colab": {
          "base_uri": "https://localhost:8080/"
        },
        "id": "P800zz42TPU5",
        "outputId": "91a07a0f-1f97-4c27-fbd4-9e8661fe98f1"
      },
      "outputs": [
        {
          "output_type": "execute_result",
          "data": {
            "text/plain": [
              "array([9], dtype=uint8)"
            ]
          },
          "metadata": {},
          "execution_count": 5
        }
      ],
      "source": [
        "y_train[1]"
      ]
    },
    {
      "cell_type": "code",
      "execution_count": 6,
      "metadata": {
        "id": "puyysa6qT8ZL"
      },
      "outputs": [],
      "source": [
        "class_names = [\n",
        "    'airplane', 'automobile', 'bird', 'cat', 'deer',\n",
        "    'dog', 'frog', 'horse', 'ship', 'truck'\n",
        "]"
      ]
    },
    {
      "cell_type": "code",
      "execution_count": 7,
      "metadata": {
        "colab": {
          "base_uri": "https://localhost:8080/"
        },
        "id": "xtO7x9QBUGG7",
        "outputId": "1b8130cb-d2af-4c0a-9659-e7cd1c715448"
      },
      "outputs": [
        {
          "output_type": "stream",
          "name": "stdout",
          "text": [
            "Class names: ['airplane', 'automobile', 'bird', 'cat', 'deer', 'dog', 'frog', 'horse', 'ship', 'truck']\n",
            "Class counts: [5000, 5000, 5000, 5000, 5000, 5000, 5000, 5000, 5000, 5000]\n"
          ]
        }
      ],
      "source": [
        "class_count = [list(y_train.flatten()).count(i) for i in range(len(class_names))]\n",
        "print(\"Class names:\", class_names)\n",
        "print(\"Class counts:\", class_count)"
      ]
    },
    {
      "cell_type": "code",
      "execution_count": 8,
      "metadata": {
        "id": "0UGIno5FUKZr"
      },
      "outputs": [],
      "source": [
        "# Ensure input data type is float32\n",
        "x_train = x_train.astype('float32')\n",
        "x_test = x_test.astype('float32')\n",
        "\n",
        "# Normalizing the data\n",
        "x_train /= 255.0\n",
        "x_test /= 255.0"
      ]
    },
    {
      "cell_type": "code",
      "execution_count": 9,
      "metadata": {
        "id": "ojAN3kMn2ezY"
      },
      "outputs": [],
      "source": [
        "# Convert labels to one-hot encoding\n",
        "y_train = to_categorical(y_train, num_classes=10)\n",
        "y_test = to_categorical(y_test, num_classes=10)"
      ]
    },
    {
      "cell_type": "code",
      "execution_count": 10,
      "metadata": {
        "id": "QpzKHlOEU3oL"
      },
      "outputs": [],
      "source": [
        "# Define the CNN model with batch normalization\n",
        "model = models.Sequential([\n",
        "    layers.Conv2D(32, (3, 3), activation='relu', input_shape=(32, 32, 3)),\n",
        "    layers.BatchNormalization(),\n",
        "    layers.Conv2D(32, (3, 3), activation='relu'),\n",
        "    layers.BatchNormalization(),\n",
        "    layers.MaxPooling2D((2, 2)),\n",
        "    layers.Dropout(0.2),\n",
        "\n",
        "    layers.Conv2D(64, (3, 3), activation='relu'),\n",
        "    layers.BatchNormalization(),\n",
        "    layers.Conv2D(64, (3, 3), activation='relu'),\n",
        "    layers.BatchNormalization(),\n",
        "    layers.Dropout(0.3),\n",
        "\n",
        "    layers.Conv2D(128, (3, 3), activation='relu'),\n",
        "    layers.BatchNormalization(),\n",
        "    layers.Conv2D(128, (3, 3), activation='relu'),\n",
        "    layers.BatchNormalization(),\n",
        "    layers.Dropout(0.4),\n",
        "\n",
        "    layers.Flatten(),\n",
        "    layers.Dense(128, activation='relu'),\n",
        "    layers.BatchNormalization(),\n",
        "    layers.Dropout(0.5),\n",
        "    layers.Dense(10, activation='softmax')\n",
        "])"
      ]
    },
    {
      "cell_type": "code",
      "execution_count": 11,
      "metadata": {
        "colab": {
          "base_uri": "https://localhost:8080/"
        },
        "id": "l9hISmxWXpTo",
        "outputId": "df92a5be-c917-4d3b-eba4-e6553a816e98"
      },
      "outputs": [
        {
          "output_type": "stream",
          "name": "stdout",
          "text": [
            "Model: \"sequential\"\n",
            "_________________________________________________________________\n",
            " Layer (type)                Output Shape              Param #   \n",
            "=================================================================\n",
            " conv2d (Conv2D)             (None, 30, 30, 32)        896       \n",
            "                                                                 \n",
            " batch_normalization (Batch  (None, 30, 30, 32)        128       \n",
            " Normalization)                                                  \n",
            "                                                                 \n",
            " conv2d_1 (Conv2D)           (None, 28, 28, 32)        9248      \n",
            "                                                                 \n",
            " batch_normalization_1 (Bat  (None, 28, 28, 32)        128       \n",
            " chNormalization)                                                \n",
            "                                                                 \n",
            " max_pooling2d (MaxPooling2  (None, 14, 14, 32)        0         \n",
            " D)                                                              \n",
            "                                                                 \n",
            " dropout (Dropout)           (None, 14, 14, 32)        0         \n",
            "                                                                 \n",
            " conv2d_2 (Conv2D)           (None, 12, 12, 64)        18496     \n",
            "                                                                 \n",
            " batch_normalization_2 (Bat  (None, 12, 12, 64)        256       \n",
            " chNormalization)                                                \n",
            "                                                                 \n",
            " conv2d_3 (Conv2D)           (None, 10, 10, 64)        36928     \n",
            "                                                                 \n",
            " batch_normalization_3 (Bat  (None, 10, 10, 64)        256       \n",
            " chNormalization)                                                \n",
            "                                                                 \n",
            " dropout_1 (Dropout)         (None, 10, 10, 64)        0         \n",
            "                                                                 \n",
            " conv2d_4 (Conv2D)           (None, 8, 8, 128)         73856     \n",
            "                                                                 \n",
            " batch_normalization_4 (Bat  (None, 8, 8, 128)         512       \n",
            " chNormalization)                                                \n",
            "                                                                 \n",
            " conv2d_5 (Conv2D)           (None, 6, 6, 128)         147584    \n",
            "                                                                 \n",
            " batch_normalization_5 (Bat  (None, 6, 6, 128)         512       \n",
            " chNormalization)                                                \n",
            "                                                                 \n",
            " dropout_2 (Dropout)         (None, 6, 6, 128)         0         \n",
            "                                                                 \n",
            " flatten (Flatten)           (None, 4608)              0         \n",
            "                                                                 \n",
            " dense (Dense)               (None, 128)               589952    \n",
            "                                                                 \n",
            " batch_normalization_6 (Bat  (None, 128)               512       \n",
            " chNormalization)                                                \n",
            "                                                                 \n",
            " dropout_3 (Dropout)         (None, 128)               0         \n",
            "                                                                 \n",
            " dense_1 (Dense)             (None, 10)                1290      \n",
            "                                                                 \n",
            "=================================================================\n",
            "Total params: 880554 (3.36 MB)\n",
            "Trainable params: 879402 (3.35 MB)\n",
            "Non-trainable params: 1152 (4.50 KB)\n",
            "_________________________________________________________________\n"
          ]
        }
      ],
      "source": [
        "model.summary()"
      ]
    },
    {
      "cell_type": "code",
      "execution_count": 12,
      "metadata": {
        "id": "qBHrjmKzYXVa"
      },
      "outputs": [],
      "source": [
        "# Compile the model\n",
        "model.compile(optimizer='adam',\n",
        "              loss='categorical_crossentropy',\n",
        "              metrics=['accuracy'])"
      ]
    },
    {
      "cell_type": "code",
      "execution_count": 13,
      "metadata": {
        "colab": {
          "base_uri": "https://localhost:8080/"
        },
        "id": "VbwRT1sfYsFa",
        "outputId": "47dd2efb-c785-43f9-8992-86266eb365fb"
      },
      "outputs": [
        {
          "output_type": "stream",
          "name": "stdout",
          "text": [
            "---------Training Started-----------\n",
            "\n",
            "Epoch 1/100\n",
            "704/704 [==============================] - 19s 12ms/step - loss: 1.7687 - accuracy: 0.4018 - val_loss: 1.4136 - val_accuracy: 0.5078\n",
            "Epoch 2/100\n",
            "704/704 [==============================] - 8s 12ms/step - loss: 1.1862 - accuracy: 0.5816 - val_loss: 0.9814 - val_accuracy: 0.6514\n",
            "Epoch 3/100\n",
            "704/704 [==============================] - 8s 11ms/step - loss: 0.9840 - accuracy: 0.6548 - val_loss: 1.0418 - val_accuracy: 0.6392\n",
            "Epoch 4/100\n",
            "704/704 [==============================] - 8s 11ms/step - loss: 0.8767 - accuracy: 0.6954 - val_loss: 0.7988 - val_accuracy: 0.7216\n",
            "Epoch 5/100\n",
            "704/704 [==============================] - 8s 11ms/step - loss: 0.7896 - accuracy: 0.7258 - val_loss: 0.7987 - val_accuracy: 0.7280\n",
            "Epoch 6/100\n",
            "704/704 [==============================] - 7s 11ms/step - loss: 0.7354 - accuracy: 0.7487 - val_loss: 0.6823 - val_accuracy: 0.7574\n",
            "Epoch 7/100\n",
            "704/704 [==============================] - 8s 11ms/step - loss: 0.6811 - accuracy: 0.7660 - val_loss: 0.6527 - val_accuracy: 0.7782\n",
            "Epoch 8/100\n",
            "704/704 [==============================] - 8s 11ms/step - loss: 0.6454 - accuracy: 0.7792 - val_loss: 0.6162 - val_accuracy: 0.7938\n",
            "Epoch 9/100\n",
            "704/704 [==============================] - 8s 11ms/step - loss: 0.6012 - accuracy: 0.7944 - val_loss: 0.6562 - val_accuracy: 0.7718\n",
            "Epoch 10/100\n",
            "704/704 [==============================] - 8s 11ms/step - loss: 0.5709 - accuracy: 0.8046 - val_loss: 0.6240 - val_accuracy: 0.7890\n",
            "Epoch 11/100\n",
            "704/704 [==============================] - 8s 11ms/step - loss: 0.5292 - accuracy: 0.8174 - val_loss: 0.6138 - val_accuracy: 0.7954\n",
            "Epoch 12/100\n",
            "704/704 [==============================] - 7s 10ms/step - loss: 0.5110 - accuracy: 0.8221 - val_loss: 0.5691 - val_accuracy: 0.8100\n",
            "Epoch 13/100\n",
            "704/704 [==============================] - 8s 11ms/step - loss: 0.4825 - accuracy: 0.8351 - val_loss: 0.5596 - val_accuracy: 0.8172\n",
            "Epoch 14/100\n",
            "704/704 [==============================] - 8s 11ms/step - loss: 0.4673 - accuracy: 0.8404 - val_loss: 0.5972 - val_accuracy: 0.7954\n",
            "Epoch 15/100\n",
            "704/704 [==============================] - 8s 11ms/step - loss: 0.4488 - accuracy: 0.8469 - val_loss: 0.5327 - val_accuracy: 0.8246\n",
            "Epoch 16/100\n",
            "704/704 [==============================] - 8s 11ms/step - loss: 0.4223 - accuracy: 0.8550 - val_loss: 0.5873 - val_accuracy: 0.8058\n",
            "Epoch 17/100\n",
            "704/704 [==============================] - 8s 11ms/step - loss: 0.4114 - accuracy: 0.8584 - val_loss: 0.6058 - val_accuracy: 0.8036\n",
            "Epoch 18/100\n",
            "704/704 [==============================] - 8s 11ms/step - loss: 0.3933 - accuracy: 0.8631 - val_loss: 0.5430 - val_accuracy: 0.8250\n",
            "Epoch 19/100\n",
            "704/704 [==============================] - 8s 11ms/step - loss: 0.3864 - accuracy: 0.8652 - val_loss: 0.5350 - val_accuracy: 0.8288\n",
            "Epoch 20/100\n",
            "704/704 [==============================] - 7s 11ms/step - loss: 0.3712 - accuracy: 0.8709 - val_loss: 0.5551 - val_accuracy: 0.8250\n",
            "Epoch 21/100\n",
            "704/704 [==============================] - 8s 11ms/step - loss: 0.3594 - accuracy: 0.8749 - val_loss: 0.5873 - val_accuracy: 0.8150\n",
            "Epoch 22/100\n",
            "704/704 [==============================] - 8s 11ms/step - loss: 0.3486 - accuracy: 0.8793 - val_loss: 0.6102 - val_accuracy: 0.8148\n",
            "Epoch 23/100\n",
            "704/704 [==============================] - 8s 11ms/step - loss: 0.3352 - accuracy: 0.8826 - val_loss: 0.5911 - val_accuracy: 0.8198\n",
            "Epoch 24/100\n",
            "704/704 [==============================] - 8s 11ms/step - loss: 0.3267 - accuracy: 0.8864 - val_loss: 0.5790 - val_accuracy: 0.8160\n",
            "Epoch 25/100\n",
            "704/704 [==============================] - 8s 11ms/step - loss: 0.3217 - accuracy: 0.8882 - val_loss: 0.6519 - val_accuracy: 0.8050\n",
            "Epoch 26/100\n",
            "704/704 [==============================] - 7s 11ms/step - loss: 0.3126 - accuracy: 0.8907 - val_loss: 0.5804 - val_accuracy: 0.8234\n",
            "Epoch 27/100\n",
            "704/704 [==============================] - 8s 11ms/step - loss: 0.3055 - accuracy: 0.8942 - val_loss: 0.5545 - val_accuracy: 0.8346\n",
            "Epoch 28/100\n",
            "704/704 [==============================] - 8s 11ms/step - loss: 0.2904 - accuracy: 0.8979 - val_loss: 0.6085 - val_accuracy: 0.8222\n",
            "Epoch 29/100\n",
            "704/704 [==============================] - 8s 11ms/step - loss: 0.2919 - accuracy: 0.8987 - val_loss: 0.5709 - val_accuracy: 0.8296\n",
            "Epoch 30/100\n",
            "704/704 [==============================] - 8s 11ms/step - loss: 0.2858 - accuracy: 0.9003 - val_loss: 0.5576 - val_accuracy: 0.8420\n",
            "Epoch 31/100\n",
            "704/704 [==============================] - 8s 11ms/step - loss: 0.2719 - accuracy: 0.9056 - val_loss: 0.5589 - val_accuracy: 0.8322\n",
            "Epoch 32/100\n",
            "704/704 [==============================] - 8s 11ms/step - loss: 0.2709 - accuracy: 0.9052 - val_loss: 0.5764 - val_accuracy: 0.8310\n",
            "Epoch 33/100\n",
            "704/704 [==============================] - 8s 11ms/step - loss: 0.2653 - accuracy: 0.9082 - val_loss: 0.5525 - val_accuracy: 0.8366\n",
            "Epoch 34/100\n",
            "704/704 [==============================] - 7s 11ms/step - loss: 0.2553 - accuracy: 0.9112 - val_loss: 0.6134 - val_accuracy: 0.8328\n",
            "Epoch 35/100\n",
            "704/704 [==============================] - 8s 11ms/step - loss: 0.2607 - accuracy: 0.9083 - val_loss: 0.5562 - val_accuracy: 0.8396\n",
            "Epoch 36/100\n",
            "704/704 [==============================] - 8s 11ms/step - loss: 0.2492 - accuracy: 0.9128 - val_loss: 0.5693 - val_accuracy: 0.8318\n",
            "Epoch 37/100\n",
            "704/704 [==============================] - 7s 11ms/step - loss: 0.2432 - accuracy: 0.9148 - val_loss: 0.6047 - val_accuracy: 0.8314\n",
            "Epoch 38/100\n",
            "704/704 [==============================] - 8s 11ms/step - loss: 0.2356 - accuracy: 0.9171 - val_loss: 0.5765 - val_accuracy: 0.8420\n",
            "Epoch 39/100\n",
            "704/704 [==============================] - 8s 11ms/step - loss: 0.2318 - accuracy: 0.9189 - val_loss: 0.6219 - val_accuracy: 0.8288\n",
            "Epoch 40/100\n",
            "704/704 [==============================] - 7s 11ms/step - loss: 0.2307 - accuracy: 0.9189 - val_loss: 0.6003 - val_accuracy: 0.8292\n",
            "Epoch 41/100\n",
            "704/704 [==============================] - 8s 11ms/step - loss: 0.2228 - accuracy: 0.9201 - val_loss: 0.5954 - val_accuracy: 0.8366\n",
            "Epoch 42/100\n",
            "704/704 [==============================] - 8s 11ms/step - loss: 0.2252 - accuracy: 0.9215 - val_loss: 0.5810 - val_accuracy: 0.8354\n",
            "Epoch 43/100\n",
            "704/704 [==============================] - 8s 11ms/step - loss: 0.2222 - accuracy: 0.9215 - val_loss: 0.5808 - val_accuracy: 0.8332\n",
            "Epoch 44/100\n",
            "704/704 [==============================] - 8s 11ms/step - loss: 0.2149 - accuracy: 0.9241 - val_loss: 0.6257 - val_accuracy: 0.8328\n",
            "Epoch 45/100\n",
            "704/704 [==============================] - 8s 11ms/step - loss: 0.2173 - accuracy: 0.9236 - val_loss: 0.6078 - val_accuracy: 0.8352\n",
            "Epoch 46/100\n",
            "704/704 [==============================] - 8s 11ms/step - loss: 0.2123 - accuracy: 0.9268 - val_loss: 0.5917 - val_accuracy: 0.8350\n",
            "Epoch 47/100\n",
            "704/704 [==============================] - 9s 12ms/step - loss: 0.2070 - accuracy: 0.9272 - val_loss: 0.5727 - val_accuracy: 0.8362\n",
            "Epoch 48/100\n",
            "704/704 [==============================] - 8s 11ms/step - loss: 0.2043 - accuracy: 0.9272 - val_loss: 0.6074 - val_accuracy: 0.8380\n",
            "Epoch 49/100\n",
            "704/704 [==============================] - 8s 11ms/step - loss: 0.2040 - accuracy: 0.9276 - val_loss: 0.5788 - val_accuracy: 0.8390\n",
            "Epoch 50/100\n",
            "704/704 [==============================] - 8s 11ms/step - loss: 0.2016 - accuracy: 0.9281 - val_loss: 0.6087 - val_accuracy: 0.8420\n",
            "Epoch 51/100\n",
            "704/704 [==============================] - 8s 11ms/step - loss: 0.1994 - accuracy: 0.9308 - val_loss: 0.5857 - val_accuracy: 0.8404\n",
            "Epoch 52/100\n",
            "704/704 [==============================] - 8s 11ms/step - loss: 0.1968 - accuracy: 0.9315 - val_loss: 0.6077 - val_accuracy: 0.8384\n",
            "Epoch 53/100\n",
            "704/704 [==============================] - 8s 11ms/step - loss: 0.1891 - accuracy: 0.9345 - val_loss: 0.5553 - val_accuracy: 0.8500\n",
            "Epoch 54/100\n",
            "704/704 [==============================] - 8s 11ms/step - loss: 0.1905 - accuracy: 0.9332 - val_loss: 0.5785 - val_accuracy: 0.8428\n",
            "Epoch 55/100\n",
            "704/704 [==============================] - 8s 11ms/step - loss: 0.1827 - accuracy: 0.9364 - val_loss: 0.6152 - val_accuracy: 0.8434\n",
            "Epoch 56/100\n",
            "704/704 [==============================] - 8s 11ms/step - loss: 0.1858 - accuracy: 0.9354 - val_loss: 0.6399 - val_accuracy: 0.8382\n",
            "Epoch 57/100\n",
            "704/704 [==============================] - 8s 11ms/step - loss: 0.1752 - accuracy: 0.9384 - val_loss: 0.5950 - val_accuracy: 0.8454\n",
            "Epoch 58/100\n",
            "704/704 [==============================] - 8s 11ms/step - loss: 0.1870 - accuracy: 0.9342 - val_loss: 0.6156 - val_accuracy: 0.8342\n",
            "Epoch 59/100\n",
            "704/704 [==============================] - 8s 11ms/step - loss: 0.1796 - accuracy: 0.9362 - val_loss: 0.5982 - val_accuracy: 0.8458\n",
            "Epoch 60/100\n",
            "704/704 [==============================] - 8s 11ms/step - loss: 0.1760 - accuracy: 0.9394 - val_loss: 0.6360 - val_accuracy: 0.8398\n",
            "Epoch 61/100\n",
            "704/704 [==============================] - 8s 11ms/step - loss: 0.1763 - accuracy: 0.9376 - val_loss: 0.5915 - val_accuracy: 0.8506\n",
            "Epoch 62/100\n",
            "704/704 [==============================] - 7s 11ms/step - loss: 0.1647 - accuracy: 0.9418 - val_loss: 0.5868 - val_accuracy: 0.8486\n",
            "Epoch 63/100\n",
            "704/704 [==============================] - 8s 11ms/step - loss: 0.1692 - accuracy: 0.9410 - val_loss: 0.5947 - val_accuracy: 0.8478\n",
            "Epoch 64/100\n",
            "704/704 [==============================] - 8s 11ms/step - loss: 0.1690 - accuracy: 0.9405 - val_loss: 0.6013 - val_accuracy: 0.8442\n",
            "Epoch 65/100\n",
            "704/704 [==============================] - 7s 11ms/step - loss: 0.1688 - accuracy: 0.9419 - val_loss: 0.6000 - val_accuracy: 0.8402\n",
            "Epoch 66/100\n",
            "704/704 [==============================] - 8s 11ms/step - loss: 0.1676 - accuracy: 0.9414 - val_loss: 0.6251 - val_accuracy: 0.8388\n",
            "Epoch 67/100\n",
            "704/704 [==============================] - 8s 11ms/step - loss: 0.1623 - accuracy: 0.9442 - val_loss: 0.6359 - val_accuracy: 0.8402\n",
            "Epoch 68/100\n",
            "704/704 [==============================] - 8s 11ms/step - loss: 0.1614 - accuracy: 0.9428 - val_loss: 0.6787 - val_accuracy: 0.8358\n",
            "Epoch 69/100\n",
            "704/704 [==============================] - 8s 11ms/step - loss: 0.1608 - accuracy: 0.9438 - val_loss: 0.6360 - val_accuracy: 0.8418\n",
            "Epoch 70/100\n",
            "704/704 [==============================] - 7s 11ms/step - loss: 0.1613 - accuracy: 0.9439 - val_loss: 0.6150 - val_accuracy: 0.8468\n",
            "Epoch 71/100\n",
            "704/704 [==============================] - 9s 12ms/step - loss: 0.1630 - accuracy: 0.9424 - val_loss: 0.5983 - val_accuracy: 0.8438\n",
            "Epoch 72/100\n",
            "704/704 [==============================] - 8s 11ms/step - loss: 0.1518 - accuracy: 0.9474 - val_loss: 0.6552 - val_accuracy: 0.8390\n",
            "Epoch 73/100\n",
            "704/704 [==============================] - 7s 11ms/step - loss: 0.1531 - accuracy: 0.9466 - val_loss: 0.6479 - val_accuracy: 0.8422\n",
            "Epoch 74/100\n",
            "704/704 [==============================] - 8s 11ms/step - loss: 0.1575 - accuracy: 0.9452 - val_loss: 0.6194 - val_accuracy: 0.8388\n",
            "Epoch 75/100\n",
            "704/704 [==============================] - 8s 11ms/step - loss: 0.1510 - accuracy: 0.9477 - val_loss: 0.6543 - val_accuracy: 0.8400\n",
            "Epoch 76/100\n",
            "704/704 [==============================] - 7s 11ms/step - loss: 0.1554 - accuracy: 0.9454 - val_loss: 0.6585 - val_accuracy: 0.8422\n",
            "Epoch 77/100\n",
            "704/704 [==============================] - 8s 11ms/step - loss: 0.1586 - accuracy: 0.9451 - val_loss: 0.6201 - val_accuracy: 0.8474\n",
            "Epoch 78/100\n",
            "704/704 [==============================] - 8s 11ms/step - loss: 0.1478 - accuracy: 0.9499 - val_loss: 0.6120 - val_accuracy: 0.8470\n",
            "Epoch 79/100\n",
            "704/704 [==============================] - 7s 11ms/step - loss: 0.1445 - accuracy: 0.9497 - val_loss: 0.6219 - val_accuracy: 0.8472\n",
            "Epoch 80/100\n",
            "704/704 [==============================] - 8s 11ms/step - loss: 0.1449 - accuracy: 0.9495 - val_loss: 0.6537 - val_accuracy: 0.8394\n",
            "Epoch 81/100\n",
            "704/704 [==============================] - 8s 11ms/step - loss: 0.1429 - accuracy: 0.9512 - val_loss: 0.6563 - val_accuracy: 0.8438\n",
            "Epoch 82/100\n",
            "704/704 [==============================] - 8s 11ms/step - loss: 0.1489 - accuracy: 0.9489 - val_loss: 0.6387 - val_accuracy: 0.8456\n",
            "Epoch 83/100\n",
            "704/704 [==============================] - 8s 11ms/step - loss: 0.1432 - accuracy: 0.9488 - val_loss: 0.6412 - val_accuracy: 0.8432\n",
            "Epoch 84/100\n",
            "704/704 [==============================] - 8s 11ms/step - loss: 0.1380 - accuracy: 0.9518 - val_loss: 0.6648 - val_accuracy: 0.8354\n",
            "Epoch 85/100\n",
            "704/704 [==============================] - 8s 11ms/step - loss: 0.1468 - accuracy: 0.9500 - val_loss: 0.6205 - val_accuracy: 0.8452\n",
            "Epoch 86/100\n",
            "704/704 [==============================] - 8s 12ms/step - loss: 0.1424 - accuracy: 0.9509 - val_loss: 0.6092 - val_accuracy: 0.8484\n",
            "Epoch 87/100\n",
            "704/704 [==============================] - 8s 11ms/step - loss: 0.1356 - accuracy: 0.9523 - val_loss: 0.6460 - val_accuracy: 0.8458\n",
            "Epoch 88/100\n",
            "704/704 [==============================] - 8s 12ms/step - loss: 0.1366 - accuracy: 0.9523 - val_loss: 0.6315 - val_accuracy: 0.8518\n",
            "Epoch 89/100\n",
            "704/704 [==============================] - 8s 11ms/step - loss: 0.1334 - accuracy: 0.9530 - val_loss: 0.6219 - val_accuracy: 0.8526\n",
            "Epoch 90/100\n",
            "704/704 [==============================] - 8s 11ms/step - loss: 0.1351 - accuracy: 0.9538 - val_loss: 0.6327 - val_accuracy: 0.8496\n",
            "Epoch 91/100\n",
            "704/704 [==============================] - 8s 11ms/step - loss: 0.1318 - accuracy: 0.9558 - val_loss: 0.6304 - val_accuracy: 0.8500\n",
            "Epoch 92/100\n",
            "704/704 [==============================] - 8s 12ms/step - loss: 0.1372 - accuracy: 0.9532 - val_loss: 0.6366 - val_accuracy: 0.8492\n",
            "Epoch 93/100\n",
            "704/704 [==============================] - 8s 11ms/step - loss: 0.1307 - accuracy: 0.9552 - val_loss: 0.6401 - val_accuracy: 0.8498\n",
            "Epoch 94/100\n",
            "704/704 [==============================] - 9s 12ms/step - loss: 0.1389 - accuracy: 0.9529 - val_loss: 0.6985 - val_accuracy: 0.8348\n",
            "Epoch 95/100\n",
            "704/704 [==============================] - 8s 12ms/step - loss: 0.1269 - accuracy: 0.9562 - val_loss: 0.6457 - val_accuracy: 0.8510\n",
            "Epoch 96/100\n",
            "704/704 [==============================] - 8s 11ms/step - loss: 0.1337 - accuracy: 0.9543 - val_loss: 0.6503 - val_accuracy: 0.8500\n",
            "Epoch 97/100\n",
            "704/704 [==============================] - 8s 11ms/step - loss: 0.1293 - accuracy: 0.9561 - val_loss: 0.6887 - val_accuracy: 0.8438\n",
            "Epoch 98/100\n",
            "704/704 [==============================] - 8s 11ms/step - loss: 0.1329 - accuracy: 0.9528 - val_loss: 0.6658 - val_accuracy: 0.8478\n",
            "Epoch 99/100\n",
            "704/704 [==============================] - 8s 11ms/step - loss: 0.1284 - accuracy: 0.9559 - val_loss: 0.6418 - val_accuracy: 0.8536\n",
            "Epoch 100/100\n",
            "704/704 [==============================] - 8s 11ms/step - loss: 0.1252 - accuracy: 0.9568 - val_loss: 0.6692 - val_accuracy: 0.8424\n",
            "\n",
            "-----------Training Finished--------------\n"
          ]
        }
      ],
      "source": [
        "print(\"---------Training Started-----------\\n\")\n",
        "\n",
        "history=model.fit(x_train, y_train, epochs=100, validation_split=0.1, batch_size=64)\n",
        "\n",
        "print(\"\\n-----------Training Finished--------------\")"
      ]
    },
    {
      "cell_type": "code",
      "execution_count": 14,
      "metadata": {
        "id": "OWmfpTErZipW",
        "colab": {
          "base_uri": "https://localhost:8080/"
        },
        "outputId": "a5c300f2-55c1-4e11-edbf-236ba1f1815c"
      },
      "outputs": [
        {
          "output_type": "stream",
          "name": "stdout",
          "text": [
            "Model Evalutaion Phase.\n",
            "\n",
            "313/313 [==============================] - 1s 4ms/step - loss: 0.7232 - accuracy: 0.8313\n",
            "Accuracy: 83.13\n",
            "--------------------------------------\n",
            "\n",
            "313/313 [==============================] - 1s 2ms/step\n"
          ]
        }
      ],
      "source": [
        "print(\"Model Evalutaion Phase.\\n\")\n",
        "loss,accuracy=model.evaluate(x_test,y_test)\n",
        "print(f'Accuracy: {round(accuracy*100,2)}')\n",
        "print(\"--------------------------------------\\n\")\n",
        "y_pred=model.predict(x_test)\n",
        "y_pred = (y_pred > 0.5).astype(int)"
      ]
    },
    {
      "cell_type": "code",
      "execution_count": 15,
      "metadata": {
        "id": "-t8IAJLlcJ9n"
      },
      "outputs": [],
      "source": [
        "acc = history.history['accuracy']\n",
        "val_acc = history.history['val_accuracy']\n",
        "\n",
        "loss = history.history['loss']\n",
        "val_loss = history.history['val_loss']"
      ]
    },
    {
      "cell_type": "code",
      "execution_count": 18,
      "metadata": {
        "id": "KWArFnoCcQAY",
        "colab": {
          "base_uri": "https://localhost:8080/",
          "height": 673
        },
        "outputId": "e49aeec3-78f1-46b0-b0f5-09fc6d107809"
      },
      "outputs": [
        {
          "output_type": "display_data",
          "data": {
            "text/plain": [
              "<Figure size 1600x800 with 2 Axes>"
            ],
            "image/png": "[encoded data removed]"
          },
          "metadata": {}
        }
      ],
      "source": [
        "plt.figure(figsize=(16, 8))\n",
        "plt.subplot(1, 2, 1)\n",
        "plt.plot(range(100), acc, label='Training Accuracy')\n",
        "plt.plot(range(100), val_acc, label='Validation Accuracy')\n",
        "plt.legend(loc='best')\n",
        "plt.title('Training and Validation Accuracy')\n",
        "\n",
        "plt.subplot(1, 2, 2)\n",
        "plt.plot(range(100), loss, label='Training Loss')\n",
        "plt.plot(range(100), val_loss, label='Validation Loss')\n",
        "plt.legend(loc='best')\n",
        "plt.title('Training and Validation Loss')\n",
        "plt.show()"
      ]
    },
    {
      "cell_type": "code",
      "execution_count": 19,
      "metadata": {
        "id": "4b5oIJawcV8W",
        "colab": {
          "base_uri": "https://localhost:8080/"
        },
        "outputId": "678b2f7f-f15e-40c2-8305-9022fac31e1b"
      },
      "outputs": [
        {
          "output_type": "stream",
          "name": "stderr",
          "text": [
            "/usr/local/lib/python3.10/dist-packages/keras/src/engine/training.py:3103: UserWarning: You are saving your model as an HDF5 file via `model.save()`. This file format is considered legacy. We recommend using instead the native Keras format, e.g. `model.save('my_model.keras')`.\n",
            "  saving_api.save_model(\n"
          ]
        }
      ],
      "source": [
        "model.save(\"cifar_CNN_83_test.h5\")"
      ]
    },
    {
      "cell_type": "code",
      "execution_count": null,
      "metadata": {
        "id": "fPAWe23pkZWy"
      },
      "outputs": [],
      "source": []
    }
  ],
  "metadata": {
    "accelerator": "GPU",
    "colab": {
      "gpuType": "T4",
      "provenance": []
    },
    "kernelspec": {
      "display_name": "Python 3",
      "name": "python3"
    },
    "language_info": {
      "name": "python"
    }
  },
  "nbformat": 4,
  "nbformat_minor": 0
}