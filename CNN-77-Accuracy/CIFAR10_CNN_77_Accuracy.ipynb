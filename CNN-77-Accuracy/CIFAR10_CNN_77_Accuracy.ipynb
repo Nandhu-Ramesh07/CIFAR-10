{
  "cells": [
    {
      "cell_type": "code",
      "execution_count": 99,
      "metadata": {
        "id": "rhUn8YzPsZMQ"
      },
      "outputs": [],
      "source": [
        "import tensorflow as tf\n",
        "from tensorflow.keras import layers, models\n",
        "from tensorflow.keras.datasets import cifar10\n",
        "from tensorflow.keras.utils import to_categorical\n",
        "from tensorflow.keras.callbacks import EarlyStopping\n",
        "from tensorflow.keras import regularizers"
      ]
    },
    {
      "cell_type": "code",
      "execution_count": 100,
      "metadata": {
        "id": "qZ0yBwz9syZA"
      },
      "outputs": [],
      "source": [
        "#loading the dataset from tensorflow\n",
        "\n",
        "(x_train,y_train) , (x_test,y_test) = datasets.cifar10.load_data()"
      ]
    },
    {
      "cell_type": "code",
      "execution_count": 101,
      "metadata": {
        "colab": {
          "base_uri": "https://localhost:8080/"
        },
        "id": "OPtu9uPPSGmt",
        "outputId": "53e69514-56e0-418d-bbd8-4aa0da1acfb8"
      },
      "outputs": [
        {
          "output_type": "stream",
          "name": "stdout",
          "text": [
            "Shape of x_train :  (50000, 32, 32, 3)\n",
            "Shape of y_train :  (50000, 1) \n",
            "\n",
            "Shape of x_test :  (10000, 32, 32, 3)\n",
            "Shape of y_test :  (10000, 1)\n"
          ]
        }
      ],
      "source": [
        "print(\"Shape of x_train : \",x_train.shape)\n",
        "print(\"Shape of y_train : \",y_train.shape,'\\n')\n",
        "print(\"Shape of x_test : \",x_test.shape)\n",
        "print(\"Shape of y_test : \",y_test.shape)"
      ]
    },
    {
      "cell_type": "markdown",
      "metadata": {
        "id": "LMZIltUHSleF"
      },
      "source": [
        "**60,000 images with 50,000 for training and 10,000 for testing**"
      ]
    },
    {
      "cell_type": "code",
      "execution_count": 102,
      "metadata": {
        "colab": {
          "base_uri": "https://localhost:8080/",
          "height": 72
        },
        "id": "M4DGH3aBSbKN",
        "outputId": "262a349c-8ea0-4ea3-ad36-f857b3ec7687"
      },
      "outputs": [
        {
          "output_type": "execute_result",
          "data": {
            "text/plain": [
              "array([[[154, 177, 187],\n",
              "        [126, 137, 136],\n",
              "        [105, 104,  95],\n",
              "        ...,\n",
              "        [ 91,  95,  71],\n",
              "        [ 87,  90,  71],\n",
              "        [ 79,  81,  70]],\n",
              "\n",
              "       [[140, 160, 169],\n",
              "        [145, 153, 154],\n",
              "        [125, 125, 118],\n",
              "        ...,\n",
              "        [ 96,  99,  78],\n",
              "        [ 77,  80,  62],\n",
              "        [ 71,  73,  61]],\n",
              "\n",
              "       [[140, 155, 164],\n",
              "        [139, 146, 149],\n",
              "        [115, 115, 112],\n",
              "        ...,\n",
              "        [ 79,  82,  64],\n",
              "        [ 68,  70,  55],\n",
              "        [ 67,  69,  55]],\n",
              "\n",
              "       ...,\n",
              "\n",
              "       [[175, 167, 166],\n",
              "        [156, 154, 160],\n",
              "        [154, 160, 170],\n",
              "        ...,\n",
              "        [ 42,  34,  36],\n",
              "        [ 61,  53,  57],\n",
              "        [ 93,  83,  91]],\n",
              "\n",
              "       [[165, 154, 128],\n",
              "        [156, 152, 130],\n",
              "        [159, 161, 142],\n",
              "        ...,\n",
              "        [103,  93,  96],\n",
              "        [123, 114, 120],\n",
              "        [131, 121, 131]],\n",
              "\n",
              "       [[163, 148, 120],\n",
              "        [158, 148, 122],\n",
              "        [163, 156, 133],\n",
              "        ...,\n",
              "        [143, 133, 139],\n",
              "        [143, 134, 142],\n",
              "        [143, 133, 144]]], dtype=uint8)"
            ],
            "text/html": [
              "<style>\n",
              "      .ndarray_repr .ndarray_raw_data {\n",
              "        display: none;\n",
              "      }\n",
              "      .ndarray_repr.show_array .ndarray_raw_data {\n",
              "        display: block;\n",
              "      }\n",
              "      .ndarray_repr.show_array .ndarray_image_preview {\n",
              "        display: none;\n",
              "      }\n",
              "      </style>\n",
              "      <div id=\"id-48ba7116-a250-4759-9580-53d81ecc267f\" class=\"ndarray_repr\"><pre>ndarray (32, 32, 3) <button style=\"padding: 0 2px;\">show data</button></pre><img src=\"data:image/png;base64,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\" class=\"ndarray_image_preview\" /><pre class=\"ndarray_raw_data\">array([[[154, 177, 187],\n",
              "        [126, 137, 136],\n",
              "        [105, 104,  95],\n",
              "        ...,\n",
              "        [ 91,  95,  71],\n",
              "        [ 87,  90,  71],\n",
              "        [ 79,  81,  70]],\n",
              "\n",
              "       [[140, 160, 169],\n",
              "        [145, 153, 154],\n",
              "        [125, 125, 118],\n",
              "        ...,\n",
              "        [ 96,  99,  78],\n",
              "        [ 77,  80,  62],\n",
              "        [ 71,  73,  61]],\n",
              "\n",
              "       [[140, 155, 164],\n",
              "        [139, 146, 149],\n",
              "        [115, 115, 112],\n",
              "        ...,\n",
              "        [ 79,  82,  64],\n",
              "        [ 68,  70,  55],\n",
              "        [ 67,  69,  55]],\n",
              "\n",
              "       ...,\n",
              "\n",
              "       [[175, 167, 166],\n",
              "        [156, 154, 160],\n",
              "        [154, 160, 170],\n",
              "        ...,\n",
              "        [ 42,  34,  36],\n",
              "        [ 61,  53,  57],\n",
              "        [ 93,  83,  91]],\n",
              "\n",
              "       [[165, 154, 128],\n",
              "        [156, 152, 130],\n",
              "        [159, 161, 142],\n",
              "        ...,\n",
              "        [103,  93,  96],\n",
              "        [123, 114, 120],\n",
              "        [131, 121, 131]],\n",
              "\n",
              "       [[163, 148, 120],\n",
              "        [158, 148, 122],\n",
              "        [163, 156, 133],\n",
              "        ...,\n",
              "        [143, 133, 139],\n",
              "        [143, 134, 142],\n",
              "        [143, 133, 144]]], dtype=uint8)</pre></div><script>\n",
              "      (() => {\n",
              "      const titles = ['show data', 'hide data'];\n",
              "      let index = 0\n",
              "      document.querySelector('#id-48ba7116-a250-4759-9580-53d81ecc267f button').onclick = (e) => {\n",
              "        document.querySelector('#id-48ba7116-a250-4759-9580-53d81ecc267f').classList.toggle('show_array');\n",
              "        index = (++index) % 2;\n",
              "        document.querySelector('#id-48ba7116-a250-4759-9580-53d81ecc267f button').textContent = titles[index];\n",
              "        e.preventDefault();\n",
              "        e.stopPropagation();\n",
              "      }\n",
              "      })();\n",
              "    </script>"
            ]
          },
          "metadata": {},
          "execution_count": 102
        }
      ],
      "source": [
        "x_train[1]"
      ]
    },
    {
      "cell_type": "code",
      "execution_count": 103,
      "metadata": {
        "colab": {
          "base_uri": "https://localhost:8080/"
        },
        "id": "P800zz42TPU5",
        "outputId": "b17b8311-157e-478f-df80-619d7e6d639e"
      },
      "outputs": [
        {
          "output_type": "execute_result",
          "data": {
            "text/plain": [
              "array([9], dtype=uint8)"
            ]
          },
          "metadata": {},
          "execution_count": 103
        }
      ],
      "source": [
        "y_train[1]"
      ]
    },
    {
      "cell_type": "code",
      "execution_count": 104,
      "metadata": {
        "id": "puyysa6qT8ZL"
      },
      "outputs": [],
      "source": [
        "class_names = [\n",
        "    'airplane', 'automobile', 'bird', 'cat', 'deer',\n",
        "    'dog', 'frog', 'horse', 'ship', 'truck'\n",
        "]"
      ]
    },
    {
      "cell_type": "code",
      "execution_count": 105,
      "metadata": {
        "colab": {
          "base_uri": "https://localhost:8080/"
        },
        "id": "xtO7x9QBUGG7",
        "outputId": "e7fc2419-1132-4135-9a05-7d82212504fb"
      },
      "outputs": [
        {
          "output_type": "stream",
          "name": "stdout",
          "text": [
            "Class names: ['airplane', 'automobile', 'bird', 'cat', 'deer', 'dog', 'frog', 'horse', 'ship', 'truck']\n",
            "Class counts: [5000, 5000, 5000, 5000, 5000, 5000, 5000, 5000, 5000, 5000]\n"
          ]
        }
      ],
      "source": [
        "class_count = [list(y_train.flatten()).count(i) for i in range(len(class_names))]\n",
        "print(\"Class names:\", class_names)\n",
        "print(\"Class counts:\", class_count)"
      ]
    },
    {
      "cell_type": "code",
      "execution_count": 106,
      "metadata": {
        "id": "0UGIno5FUKZr"
      },
      "outputs": [],
      "source": [
        "# Ensure input data type is float32\n",
        "x_train = x_train.astype('float32')\n",
        "x_test = x_test.astype('float32')\n",
        "\n",
        "# Normalizing the data\n",
        "x_train /= 255.0\n",
        "x_test /= 255.0"
      ]
    },
    {
      "cell_type": "code",
      "source": [
        "# Convert labels to one-hot encoding\n",
        "y_train = to_categorical(y_train, num_classes=10)\n",
        "y_test = to_categorical(y_test, num_classes=10)"
      ],
      "metadata": {
        "id": "ojAN3kMn2ezY"
      },
      "execution_count": 107,
      "outputs": []
    },
    {
      "cell_type": "code",
      "execution_count": 108,
      "metadata": {
        "id": "QpzKHlOEU3oL"
      },
      "outputs": [],
      "source": [
        "model = models.Sequential([\n",
        "    layers.Conv2D(32, (3, 3), activation='relu', kernel_regularizer=regularizers.l2(0.001), input_shape=(32, 32, 3)),\n",
        "    layers.MaxPooling2D((2, 2)),\n",
        "    layers.Conv2D(64, (3, 3), activation='relu', kernel_regularizer=regularizers.l2(0.001)),\n",
        "    layers.MaxPooling2D((2, 2)),\n",
        "    layers.Conv2D(64, (3, 3), activation='relu', kernel_regularizer=regularizers.l2(0.001)),\n",
        "    layers.Flatten(),\n",
        "    layers.Dropout(0.5),\n",
        "    layers.Dense(64, activation='relu', kernel_regularizer=regularizers.l2(0.001)),\n",
        "    layers.Dense(10, activation='softmax')\n",
        "])"
      ]
    },
    {
      "cell_type": "code",
      "execution_count": 109,
      "metadata": {
        "colab": {
          "base_uri": "https://localhost:8080/"
        },
        "id": "l9hISmxWXpTo",
        "outputId": "97a38738-978e-4a8c-ca12-f791dcf82bf0"
      },
      "outputs": [
        {
          "output_type": "stream",
          "name": "stdout",
          "text": [
            "Model: \"sequential_11\"\n",
            "_________________________________________________________________\n",
            " Layer (type)                Output Shape              Param #   \n",
            "=================================================================\n",
            " conv2d_24 (Conv2D)          (None, 30, 30, 32)        896       \n",
            "                                                                 \n",
            " max_pooling2d_20 (MaxPooli  (None, 15, 15, 32)        0         \n",
            " ng2D)                                                           \n",
            "                                                                 \n",
            " conv2d_25 (Conv2D)          (None, 13, 13, 64)        18496     \n",
            "                                                                 \n",
            " max_pooling2d_21 (MaxPooli  (None, 6, 6, 64)          0         \n",
            " ng2D)                                                           \n",
            "                                                                 \n",
            " conv2d_26 (Conv2D)          (None, 4, 4, 64)          36928     \n",
            "                                                                 \n",
            " flatten_9 (Flatten)         (None, 1024)              0         \n",
            "                                                                 \n",
            " dropout_6 (Dropout)         (None, 1024)              0         \n",
            "                                                                 \n",
            " dense_17 (Dense)            (None, 64)                65600     \n",
            "                                                                 \n",
            " dense_18 (Dense)            (None, 10)                650       \n",
            "                                                                 \n",
            "=================================================================\n",
            "Total params: 122570 (478.79 KB)\n",
            "Trainable params: 122570 (478.79 KB)\n",
            "Non-trainable params: 0 (0.00 Byte)\n",
            "_________________________________________________________________\n"
          ]
        }
      ],
      "source": [
        "model.summary()"
      ]
    },
    {
      "cell_type": "code",
      "execution_count": 110,
      "metadata": {
        "id": "qBHrjmKzYXVa"
      },
      "outputs": [],
      "source": [
        "# Compile the model\n",
        "model.compile(optimizer='adam',\n",
        "              loss='categorical_crossentropy',\n",
        "              metrics=['accuracy'])"
      ]
    },
    {
      "cell_type": "code",
      "execution_count": 111,
      "metadata": {
        "colab": {
          "base_uri": "https://localhost:8080/"
        },
        "id": "VbwRT1sfYsFa",
        "outputId": "1c382950-b0b9-4d83-d6d4-9e1dc490d3f8"
      },
      "outputs": [
        {
          "output_type": "stream",
          "name": "stdout",
          "text": [
            "---------Training Started-----------\n",
            "\n",
            "Epoch 1/100\n",
            "704/704 [==============================] - 6s 6ms/step - loss: 1.7891 - accuracy: 0.3772 - val_loss: 1.5472 - val_accuracy: 0.4740\n",
            "Epoch 2/100\n",
            "704/704 [==============================] - 3s 5ms/step - loss: 1.5112 - accuracy: 0.4892 - val_loss: 1.4171 - val_accuracy: 0.5360\n",
            "Epoch 3/100\n",
            "704/704 [==============================] - 4s 5ms/step - loss: 1.4179 - accuracy: 0.5324 - val_loss: 1.3304 - val_accuracy: 0.5714\n",
            "Epoch 4/100\n",
            "704/704 [==============================] - 4s 5ms/step - loss: 1.3460 - accuracy: 0.5639 - val_loss: 1.2450 - val_accuracy: 0.6050\n",
            "Epoch 5/100\n",
            "704/704 [==============================] - 3s 5ms/step - loss: 1.2908 - accuracy: 0.5879 - val_loss: 1.2229 - val_accuracy: 0.6110\n",
            "Epoch 6/100\n",
            "704/704 [==============================] - 3s 5ms/step - loss: 1.2479 - accuracy: 0.6070 - val_loss: 1.1161 - val_accuracy: 0.6592\n",
            "Epoch 7/100\n",
            "704/704 [==============================] - 4s 6ms/step - loss: 1.2049 - accuracy: 0.6256 - val_loss: 1.1203 - val_accuracy: 0.6618\n",
            "Epoch 8/100\n",
            "704/704 [==============================] - 3s 5ms/step - loss: 1.1877 - accuracy: 0.6353 - val_loss: 1.1014 - val_accuracy: 0.6710\n",
            "Epoch 9/100\n",
            "704/704 [==============================] - 3s 5ms/step - loss: 1.1599 - accuracy: 0.6467 - val_loss: 1.0801 - val_accuracy: 0.6764\n",
            "Epoch 10/100\n",
            "704/704 [==============================] - 4s 6ms/step - loss: 1.1446 - accuracy: 0.6533 - val_loss: 1.0544 - val_accuracy: 0.6906\n",
            "Epoch 11/100\n",
            "704/704 [==============================] - 3s 5ms/step - loss: 1.1259 - accuracy: 0.6597 - val_loss: 1.0440 - val_accuracy: 0.6922\n",
            "Epoch 12/100\n",
            "704/704 [==============================] - 3s 5ms/step - loss: 1.1100 - accuracy: 0.6653 - val_loss: 1.0626 - val_accuracy: 0.6898\n",
            "Epoch 13/100\n",
            "704/704 [==============================] - 4s 5ms/step - loss: 1.0959 - accuracy: 0.6722 - val_loss: 0.9995 - val_accuracy: 0.7136\n",
            "Epoch 14/100\n",
            "704/704 [==============================] - 4s 5ms/step - loss: 1.0820 - accuracy: 0.6770 - val_loss: 1.0227 - val_accuracy: 0.7140\n",
            "Epoch 15/100\n",
            "704/704 [==============================] - 3s 5ms/step - loss: 1.0651 - accuracy: 0.6840 - val_loss: 0.9873 - val_accuracy: 0.7142\n",
            "Epoch 16/100\n",
            "704/704 [==============================] - 3s 5ms/step - loss: 1.0572 - accuracy: 0.6893 - val_loss: 1.0042 - val_accuracy: 0.7134\n",
            "Epoch 17/100\n",
            "704/704 [==============================] - 4s 6ms/step - loss: 1.0569 - accuracy: 0.6918 - val_loss: 0.9768 - val_accuracy: 0.7246\n",
            "Epoch 18/100\n",
            "704/704 [==============================] - 3s 5ms/step - loss: 1.0453 - accuracy: 0.6940 - val_loss: 0.9573 - val_accuracy: 0.7342\n",
            "Epoch 19/100\n",
            "704/704 [==============================] - 3s 5ms/step - loss: 1.0409 - accuracy: 0.6967 - val_loss: 1.0769 - val_accuracy: 0.6804\n",
            "Epoch 20/100\n",
            "704/704 [==============================] - 4s 6ms/step - loss: 1.0371 - accuracy: 0.7005 - val_loss: 0.9490 - val_accuracy: 0.7356\n",
            "Epoch 21/100\n",
            "704/704 [==============================] - 4s 5ms/step - loss: 1.0193 - accuracy: 0.7057 - val_loss: 0.9689 - val_accuracy: 0.7234\n",
            "Epoch 22/100\n",
            "704/704 [==============================] - 4s 5ms/step - loss: 1.0179 - accuracy: 0.7074 - val_loss: 0.9758 - val_accuracy: 0.7246\n",
            "Epoch 23/100\n",
            "704/704 [==============================] - 4s 6ms/step - loss: 1.0140 - accuracy: 0.7083 - val_loss: 0.9439 - val_accuracy: 0.7328\n",
            "Epoch 24/100\n",
            "704/704 [==============================] - 4s 6ms/step - loss: 1.0024 - accuracy: 0.7126 - val_loss: 0.9877 - val_accuracy: 0.7242\n",
            "Epoch 25/100\n",
            "704/704 [==============================] - 3s 5ms/step - loss: 0.9991 - accuracy: 0.7144 - val_loss: 0.9544 - val_accuracy: 0.7292\n",
            "Epoch 26/100\n",
            "704/704 [==============================] - 3s 5ms/step - loss: 0.9939 - accuracy: 0.7136 - val_loss: 0.9145 - val_accuracy: 0.7522\n",
            "Epoch 27/100\n",
            "704/704 [==============================] - 4s 6ms/step - loss: 0.9891 - accuracy: 0.7171 - val_loss: 0.9304 - val_accuracy: 0.7416\n",
            "Epoch 28/100\n",
            "704/704 [==============================] - 4s 5ms/step - loss: 0.9894 - accuracy: 0.7183 - val_loss: 0.9911 - val_accuracy: 0.7206\n",
            "Epoch 29/100\n",
            "704/704 [==============================] - 4s 5ms/step - loss: 0.9756 - accuracy: 0.7222 - val_loss: 0.9082 - val_accuracy: 0.7510\n",
            "Epoch 30/100\n",
            "704/704 [==============================] - 4s 6ms/step - loss: 0.9729 - accuracy: 0.7253 - val_loss: 0.9685 - val_accuracy: 0.7256\n",
            "Epoch 31/100\n",
            "704/704 [==============================] - 3s 5ms/step - loss: 0.9739 - accuracy: 0.7237 - val_loss: 0.9280 - val_accuracy: 0.7376\n",
            "Epoch 32/100\n",
            "704/704 [==============================] - 3s 5ms/step - loss: 0.9660 - accuracy: 0.7256 - val_loss: 0.9156 - val_accuracy: 0.7432\n",
            "Epoch 33/100\n",
            "704/704 [==============================] - 4s 6ms/step - loss: 0.9672 - accuracy: 0.7250 - val_loss: 0.9550 - val_accuracy: 0.7300\n",
            "Epoch 34/100\n",
            "704/704 [==============================] - 3s 5ms/step - loss: 0.9661 - accuracy: 0.7271 - val_loss: 0.9882 - val_accuracy: 0.7180\n",
            "Epoch 35/100\n",
            "704/704 [==============================] - 3s 5ms/step - loss: 0.9634 - accuracy: 0.7302 - val_loss: 0.9055 - val_accuracy: 0.7554\n",
            "Epoch 36/100\n",
            "704/704 [==============================] - 4s 5ms/step - loss: 0.9540 - accuracy: 0.7342 - val_loss: 0.9066 - val_accuracy: 0.7478\n",
            "Epoch 37/100\n",
            "704/704 [==============================] - 4s 6ms/step - loss: 0.9545 - accuracy: 0.7308 - val_loss: 0.9341 - val_accuracy: 0.7442\n",
            "Epoch 38/100\n",
            "704/704 [==============================] - 4s 5ms/step - loss: 0.9538 - accuracy: 0.7328 - val_loss: 0.8916 - val_accuracy: 0.7534\n",
            "Epoch 39/100\n",
            "704/704 [==============================] - 4s 5ms/step - loss: 0.9544 - accuracy: 0.7333 - val_loss: 0.9198 - val_accuracy: 0.7478\n",
            "Epoch 40/100\n",
            "704/704 [==============================] - 4s 6ms/step - loss: 0.9469 - accuracy: 0.7327 - val_loss: 0.9103 - val_accuracy: 0.7520\n",
            "Epoch 41/100\n",
            "704/704 [==============================] - 3s 5ms/step - loss: 0.9405 - accuracy: 0.7381 - val_loss: 0.8937 - val_accuracy: 0.7618\n",
            "Epoch 42/100\n",
            "704/704 [==============================] - 3s 5ms/step - loss: 0.9417 - accuracy: 0.7370 - val_loss: 0.9071 - val_accuracy: 0.7588\n",
            "Epoch 43/100\n",
            "704/704 [==============================] - 4s 6ms/step - loss: 0.9391 - accuracy: 0.7394 - val_loss: 0.9160 - val_accuracy: 0.7510\n",
            "Epoch 44/100\n",
            "704/704 [==============================] - 4s 5ms/step - loss: 0.9392 - accuracy: 0.7383 - val_loss: 0.9651 - val_accuracy: 0.7314\n",
            "Epoch 45/100\n",
            "704/704 [==============================] - 4s 5ms/step - loss: 0.9344 - accuracy: 0.7381 - val_loss: 0.9159 - val_accuracy: 0.7492\n",
            "Epoch 46/100\n",
            "704/704 [==============================] - 4s 5ms/step - loss: 0.9326 - accuracy: 0.7427 - val_loss: 0.9176 - val_accuracy: 0.7530\n",
            "Epoch 47/100\n",
            "704/704 [==============================] - 4s 5ms/step - loss: 0.9325 - accuracy: 0.7404 - val_loss: 0.8941 - val_accuracy: 0.7590\n",
            "Epoch 48/100\n",
            "704/704 [==============================] - 3s 5ms/step - loss: 0.9316 - accuracy: 0.7438 - val_loss: 0.9132 - val_accuracy: 0.7512\n",
            "Epoch 49/100\n",
            "704/704 [==============================] - 4s 5ms/step - loss: 0.9282 - accuracy: 0.7401 - val_loss: 0.9090 - val_accuracy: 0.7532\n",
            "Epoch 50/100\n",
            "704/704 [==============================] - 4s 6ms/step - loss: 0.9234 - accuracy: 0.7444 - val_loss: 0.8928 - val_accuracy: 0.7638\n",
            "Epoch 51/100\n",
            "704/704 [==============================] - 3s 5ms/step - loss: 0.9277 - accuracy: 0.7398 - val_loss: 0.9339 - val_accuracy: 0.7392\n",
            "Epoch 52/100\n",
            "704/704 [==============================] - 4s 5ms/step - loss: 0.9211 - accuracy: 0.7453 - val_loss: 0.9273 - val_accuracy: 0.7472\n",
            "Epoch 53/100\n",
            "704/704 [==============================] - 4s 6ms/step - loss: 0.9247 - accuracy: 0.7430 - val_loss: 0.9080 - val_accuracy: 0.7624\n",
            "Epoch 54/100\n",
            "704/704 [==============================] - 3s 5ms/step - loss: 0.9127 - accuracy: 0.7509 - val_loss: 0.9115 - val_accuracy: 0.7482\n",
            "Epoch 55/100\n",
            "704/704 [==============================] - 3s 5ms/step - loss: 0.9200 - accuracy: 0.7468 - val_loss: 0.8928 - val_accuracy: 0.7634\n",
            "Epoch 56/100\n",
            "704/704 [==============================] - 4s 6ms/step - loss: 0.9118 - accuracy: 0.7478 - val_loss: 0.9019 - val_accuracy: 0.7568\n",
            "Epoch 57/100\n",
            "704/704 [==============================] - 4s 5ms/step - loss: 0.9112 - accuracy: 0.7496 - val_loss: 0.9016 - val_accuracy: 0.7534\n",
            "Epoch 58/100\n",
            "704/704 [==============================] - 3s 5ms/step - loss: 0.9089 - accuracy: 0.7518 - val_loss: 0.8833 - val_accuracy: 0.7606\n",
            "Epoch 59/100\n",
            "704/704 [==============================] - 4s 5ms/step - loss: 0.9179 - accuracy: 0.7453 - val_loss: 0.8885 - val_accuracy: 0.7600\n",
            "Epoch 60/100\n",
            "704/704 [==============================] - 4s 6ms/step - loss: 0.9081 - accuracy: 0.7508 - val_loss: 0.8767 - val_accuracy: 0.7670\n",
            "Epoch 61/100\n",
            "704/704 [==============================] - 4s 5ms/step - loss: 0.9066 - accuracy: 0.7501 - val_loss: 0.9333 - val_accuracy: 0.7506\n",
            "Epoch 62/100\n",
            "704/704 [==============================] - 3s 5ms/step - loss: 0.9181 - accuracy: 0.7472 - val_loss: 0.9180 - val_accuracy: 0.7550\n",
            "Epoch 63/100\n",
            "704/704 [==============================] - 4s 6ms/step - loss: 0.9070 - accuracy: 0.7514 - val_loss: 0.9119 - val_accuracy: 0.7568\n",
            "Epoch 64/100\n",
            "704/704 [==============================] - 3s 5ms/step - loss: 0.9103 - accuracy: 0.7509 - val_loss: 0.9072 - val_accuracy: 0.7576\n",
            "Epoch 65/100\n",
            "704/704 [==============================] - 4s 5ms/step - loss: 0.9011 - accuracy: 0.7510 - val_loss: 0.8717 - val_accuracy: 0.7662\n",
            "Epoch 66/100\n",
            "704/704 [==============================] - 4s 6ms/step - loss: 0.9081 - accuracy: 0.7511 - val_loss: 0.9202 - val_accuracy: 0.7528\n",
            "Epoch 67/100\n",
            "704/704 [==============================] - 3s 5ms/step - loss: 0.9081 - accuracy: 0.7519 - val_loss: 0.9698 - val_accuracy: 0.7378\n",
            "Epoch 68/100\n",
            "704/704 [==============================] - 3s 5ms/step - loss: 0.8960 - accuracy: 0.7581 - val_loss: 0.9024 - val_accuracy: 0.7588\n",
            "Epoch 69/100\n",
            "704/704 [==============================] - 4s 5ms/step - loss: 0.8968 - accuracy: 0.7562 - val_loss: 0.9399 - val_accuracy: 0.7440\n",
            "Epoch 70/100\n",
            "704/704 [==============================] - 4s 5ms/step - loss: 0.8987 - accuracy: 0.7532 - val_loss: 0.8817 - val_accuracy: 0.7652\n",
            "Epoch 71/100\n",
            "704/704 [==============================] - 3s 5ms/step - loss: 0.9016 - accuracy: 0.7529 - val_loss: 0.9362 - val_accuracy: 0.7472\n",
            "Epoch 72/100\n",
            "704/704 [==============================] - 3s 5ms/step - loss: 0.8942 - accuracy: 0.7566 - val_loss: 0.8980 - val_accuracy: 0.7562\n",
            "Epoch 73/100\n",
            "704/704 [==============================] - 4s 6ms/step - loss: 0.8992 - accuracy: 0.7538 - val_loss: 0.8971 - val_accuracy: 0.7616\n",
            "Epoch 74/100\n",
            "704/704 [==============================] - 3s 5ms/step - loss: 0.8935 - accuracy: 0.7588 - val_loss: 0.8772 - val_accuracy: 0.7634\n",
            "Epoch 75/100\n",
            "704/704 [==============================] - 3s 5ms/step - loss: 0.8962 - accuracy: 0.7581 - val_loss: 0.8873 - val_accuracy: 0.7616\n",
            "Epoch 76/100\n",
            "704/704 [==============================] - 4s 5ms/step - loss: 0.8941 - accuracy: 0.7600 - val_loss: 0.9228 - val_accuracy: 0.7564\n",
            "Epoch 77/100\n",
            "704/704 [==============================] - 3s 5ms/step - loss: 0.8897 - accuracy: 0.7616 - val_loss: 0.8870 - val_accuracy: 0.7636\n",
            "Epoch 78/100\n",
            "704/704 [==============================] - 3s 5ms/step - loss: 0.8888 - accuracy: 0.7599 - val_loss: 0.8863 - val_accuracy: 0.7642\n",
            "Epoch 79/100\n",
            "704/704 [==============================] - 3s 5ms/step - loss: 0.8893 - accuracy: 0.7586 - val_loss: 0.9496 - val_accuracy: 0.7406\n",
            "Epoch 80/100\n",
            "704/704 [==============================] - 4s 6ms/step - loss: 0.8906 - accuracy: 0.7556 - val_loss: 0.8660 - val_accuracy: 0.7774\n",
            "Epoch 81/100\n",
            "704/704 [==============================] - 3s 5ms/step - loss: 0.8873 - accuracy: 0.7617 - val_loss: 0.9284 - val_accuracy: 0.7508\n",
            "Epoch 82/100\n",
            "704/704 [==============================] - 3s 5ms/step - loss: 0.8866 - accuracy: 0.7617 - val_loss: 0.8855 - val_accuracy: 0.7664\n",
            "Epoch 83/100\n",
            "704/704 [==============================] - 4s 6ms/step - loss: 0.8791 - accuracy: 0.7642 - val_loss: 0.9436 - val_accuracy: 0.7486\n",
            "Epoch 84/100\n",
            "704/704 [==============================] - 4s 5ms/step - loss: 0.8830 - accuracy: 0.7594 - val_loss: 0.8821 - val_accuracy: 0.7682\n",
            "Epoch 85/100\n",
            "704/704 [==============================] - 3s 5ms/step - loss: 0.8878 - accuracy: 0.7594 - val_loss: 0.8921 - val_accuracy: 0.7660\n",
            "Epoch 86/100\n",
            "704/704 [==============================] - 4s 5ms/step - loss: 0.8867 - accuracy: 0.7582 - val_loss: 0.9080 - val_accuracy: 0.7524\n",
            "Epoch 87/100\n",
            "704/704 [==============================] - 4s 5ms/step - loss: 0.8869 - accuracy: 0.7588 - val_loss: 0.9103 - val_accuracy: 0.7526\n",
            "Epoch 88/100\n",
            "704/704 [==============================] - 3s 5ms/step - loss: 0.8817 - accuracy: 0.7620 - val_loss: 0.8682 - val_accuracy: 0.7702\n",
            "Epoch 89/100\n",
            "704/704 [==============================] - 3s 5ms/step - loss: 0.8776 - accuracy: 0.7628 - val_loss: 0.8640 - val_accuracy: 0.7764\n",
            "Epoch 90/100\n",
            "704/704 [==============================] - 4s 6ms/step - loss: 0.8782 - accuracy: 0.7632 - val_loss: 0.8791 - val_accuracy: 0.7662\n",
            "Epoch 91/100\n",
            "704/704 [==============================] - 3s 5ms/step - loss: 0.8728 - accuracy: 0.7650 - val_loss: 0.8723 - val_accuracy: 0.7686\n",
            "Epoch 92/100\n",
            "704/704 [==============================] - 3s 5ms/step - loss: 0.8739 - accuracy: 0.7654 - val_loss: 0.8947 - val_accuracy: 0.7654\n",
            "Epoch 93/100\n",
            "704/704 [==============================] - 4s 6ms/step - loss: 0.8767 - accuracy: 0.7648 - val_loss: 0.9372 - val_accuracy: 0.7556\n",
            "Epoch 94/100\n",
            "704/704 [==============================] - 3s 5ms/step - loss: 0.8710 - accuracy: 0.7645 - val_loss: 0.9095 - val_accuracy: 0.7558\n",
            "Epoch 95/100\n",
            "704/704 [==============================] - 3s 5ms/step - loss: 0.8754 - accuracy: 0.7650 - val_loss: 0.8984 - val_accuracy: 0.7622\n",
            "Epoch 96/100\n",
            "704/704 [==============================] - 4s 5ms/step - loss: 0.8788 - accuracy: 0.7628 - val_loss: 0.9400 - val_accuracy: 0.7454\n",
            "Epoch 97/100\n",
            "704/704 [==============================] - 4s 5ms/step - loss: 0.8790 - accuracy: 0.7624 - val_loss: 0.8939 - val_accuracy: 0.7726\n",
            "Epoch 98/100\n",
            "704/704 [==============================] - 4s 5ms/step - loss: 0.8755 - accuracy: 0.7649 - val_loss: 0.8867 - val_accuracy: 0.7702\n",
            "Epoch 99/100\n",
            "704/704 [==============================] - 4s 6ms/step - loss: 0.8727 - accuracy: 0.7659 - val_loss: 0.9181 - val_accuracy: 0.7538\n",
            "Epoch 100/100\n",
            "704/704 [==============================] - 4s 6ms/step - loss: 0.8735 - accuracy: 0.7674 - val_loss: 0.8771 - val_accuracy: 0.7740\n",
            "\n",
            "-----------Training Finished--------------\n"
          ]
        }
      ],
      "source": [
        "print(\"---------Training Started-----------\\n\")\n",
        "\n",
        "history=model.fit(x_train, y_train, epochs=100, validation_split=0.1, batch_size=64)\n",
        "\n",
        "print(\"\\n-----------Training Finished--------------\")"
      ]
    },
    {
      "cell_type": "code",
      "execution_count": 112,
      "metadata": {
        "id": "OWmfpTErZipW",
        "colab": {
          "base_uri": "https://localhost:8080/"
        },
        "outputId": "f6ead6ec-fe43-41cd-f16c-22886bc265f0"
      },
      "outputs": [
        {
          "output_type": "stream",
          "name": "stdout",
          "text": [
            "Model Evalutaion Phase.\n",
            "\n",
            "313/313 [==============================] - 1s 3ms/step - loss: 0.9030 - accuracy: 0.7590\n",
            "Accuracy: 75.9\n",
            "--------------------------------------\n",
            "\n",
            "313/313 [==============================] - 1s 2ms/step\n"
          ]
        }
      ],
      "source": [
        "print(\"Model Evalutaion Phase.\\n\")\n",
        "loss,accuracy=model.evaluate(x_test,y_test)\n",
        "print(f'Accuracy: {round(accuracy*100,2)}')\n",
        "print(\"--------------------------------------\\n\")\n",
        "y_pred=model.predict(x_test)\n",
        "y_pred = (y_pred > 0.5).astype(int)"
      ]
    },
    {
      "cell_type": "code",
      "execution_count": 113,
      "metadata": {
        "id": "-t8IAJLlcJ9n"
      },
      "outputs": [],
      "source": [
        "acc = history.history['accuracy']\n",
        "val_acc = history.history['val_accuracy']\n",
        "\n",
        "loss = history.history['loss']\n",
        "val_loss = history.history['val_loss']"
      ]
    },
    {
      "cell_type": "code",
      "execution_count": 114,
      "metadata": {
        "id": "KWArFnoCcQAY",
        "colab": {
          "base_uri": "https://localhost:8080/",
          "height": 511
        },
        "outputId": "e7fdac55-2711-4193-d511-0c4d603b0f66"
      },
      "outputs": [
        {
          "output_type": "display_data",
          "data": {
            "text/plain": [
              "<Figure size 1600x800 with 2 Axes>"
            ],
            "image/png": "[encoded data removed]"
          },
          "metadata": {}
        }
      ],
      "source": [
        "plt.figure(figsize=(16, 8))\n",
        "plt.subplot(1, 2, 1)\n",
        "plt.plot(range(100), acc, label='Training Accuracy')\n",
        "plt.plot(range(100), val_acc, label='Validation Accuracy')\n",
        "plt.legend(loc='best')\n",
        "plt.title('Training and Validation Accuracy')\n",
        "\n",
        "plt.subplot(1, 2, 2)\n",
        "plt.plot(range(100), loss, label='Training Loss')\n",
        "plt.plot(range(100), val_loss, label='Validation Loss')\n",
        "plt.legend(loc='best')\n",
        "plt.title('Training and Validation Loss')\n",
        "plt.show()"
      ]
    },
    {
      "cell_type": "code",
      "execution_count": 115,
      "metadata": {
        "id": "4b5oIJawcV8W",
        "colab": {
          "base_uri": "https://localhost:8080/"
        },
        "outputId": "c0fa952b-7454-400b-9aa1-92ab5a00f2c6"
      },
      "outputs": [
        {
          "output_type": "stream",
          "name": "stderr",
          "text": [
            "/usr/local/lib/python3.10/dist-packages/keras/src/engine/training.py:3103: UserWarning: You are saving your model as an HDF5 file via `model.save()`. This file format is considered legacy. We recommend using instead the native Keras format, e.g. `model.save('my_model.keras')`.\n",
            "  saving_api.save_model(\n"
          ]
        }
      ],
      "source": [
        "model.save(\"cifar_CNN_75_test.h5\")"
      ]
    },
    {
      "cell_type": "code",
      "execution_count": null,
      "metadata": {
        "id": "fPAWe23pkZWy"
      },
      "outputs": [],
      "source": []
    }
  ],
  "metadata": {
    "accelerator": "GPU",
    "colab": {
      "gpuType": "T4",
      "provenance": []
    },
    "kernelspec": {
      "display_name": "Python 3",
      "name": "python3"
    },
    "language_info": {
      "name": "python"
    }
  },
  "nbformat": 4,
  "nbformat_minor": 0
}